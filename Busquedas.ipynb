{
 "cells": [
  {
   "cell_type": "code",
   "execution_count": 1,
   "metadata": {},
   "outputs": [],
   "source": [
    "import tkinter as tk"
   ]
  },
  {
   "cell_type": "code",
   "execution_count": 2,
   "metadata": {},
   "outputs": [],
   "source": [
    "root= tk.Tk()\n",
    "\n",
    "canvas1 = tk.Canvas(root, width = 400, height = 300)\n",
    "canvas1.pack()\n",
    "\n",
    "entry1 = tk.Entry (root) \n",
    "canvas1.create_window(200, 140, window=entry1)\n",
    "\n",
    "def getSquareRoot ():  \n",
    "    x1 = entry1.get()\n",
    "    \n",
    "    label1 = tk.Label(root, text= float(x1)**0.5)\n",
    "    canvas1.create_window(200, 230, window=label1)\n",
    "    \n",
    "button1 = tk.Button(text='Get the Square Root', command=getSquareRoot)\n",
    "canvas1.create_window(200, 180, window=button1)\n",
    "\n",
    "root.mainloop()"
   ]
  },
  {
   "cell_type": "code",
   "execution_count": null,
   "metadata": {},
   "outputs": [],
   "source": [
    "import xml.etree.ElementTree as ET\n",
    "import numpy as np\n",
    "import pandas as pd\n",
    "\n",
    "tree = ET.parse('0800.xml')\n",
    "root = tree.getroot()\n",
    "items = root.findall('.//item')\n",
    "c = []\n",
    "for i in range(len(items)):\n",
    "    c.append(len(items[i]))\n",
    "boo = np.zeros((len(items), max(c))).astype(str)\n",
    "for i in range(len(items)):\n",
    "    for j in range(len(items[i])):\n",
    "        boo[i,j] = items[i][j].text\n",
    "        \n",
    "df = pd.DataFrame(boo)\n",
    "df.head(8)"
   ]
  },
  {
   "cell_type": "code",
   "execution_count": 24,
   "metadata": {},
   "outputs": [
    {
     "name": "stdout",
     "output_type": "stream",
     "text": [
      "Ingrese el intervalo de interés utilizando el formato yyyymmdd\n",
      "Inicio: 20180209\n",
      "Fin: 20180210\n"
     ]
    }
   ],
   "source": [
    "import datetime\n",
    "import os\n",
    "\n",
    "print(\"Ingrese el intervalo de interés utilizando el formato yyyymmdd\")\n",
    "#inicio = input(\"Inicio: \")\n",
    "inicio = datetime.datetime.strptime(input(\"Inicio: \"), \"%Y%m%d\")\n",
    "fin = datetime.datetime.strptime(input(\"Fin: \"), \"%Y%m%d\") \n",
    "dir_path = os.path.dirname(os.path.realpath(inicio.strftime('%Y%m%d')))\n",
    "lista = []\n",
    "for root, dirs, files in os.walk(dir_path):\n",
    "    for file in files: \n",
    "        if file.startswith(inicio.strftime('%Y%m%d')):\n",
    "            lista.append(root+'/'+str(file))"
   ]
  },
  {
   "cell_type": "code",
   "execution_count": 129,
   "metadata": {},
   "outputs": [
    {
     "name": "stdout",
     "output_type": "stream",
     "text": [
      "Inicio: 20180209\n",
      "Fin: 20180215\n"
     ]
    },
    {
     "data": {
      "text/plain": [
       "['201802090500.xml',\n",
       " '201802090600.xml',\n",
       " '201802100700.xml',\n",
       " '201802100800.xml']"
      ]
     },
     "execution_count": 129,
     "metadata": {},
     "output_type": "execute_result"
    }
   ],
   "source": [
    "inicio = datetime.datetime.strptime(input(\"Inicio: \"), \"%Y%m%d\")\n",
    "fin = datetime.datetime.strptime(input(\"Fin: \"), \"%Y%m%d\")\n",
    "dias = []\n",
    "lista = []\n",
    "for i in range(((fin-inicio).days)+1):\n",
    "    dias.append((inicio + datetime.timedelta(days=i)).strftime('%Y%m%d'))\n",
    "for k in range(len(dias)):\n",
    "    dir_path = os.path.dirname(os.path.realpath(dias[k]))\n",
    "    for root, dirs, files in os.walk(dir_path):\n",
    "        for file in files: \n",
    "            if file.startswith(dias[k]):\n",
    "                lista.append((root+'/'+str(file))[-16:])\n",
    "lista"
   ]
  },
  {
   "cell_type": "code",
   "execution_count": 205,
   "metadata": {},
   "outputs": [
    {
     "name": "stdout",
     "output_type": "stream",
     "text": [
      "Ingrese la o las horas en formato hhmm\n",
      "Inicio: 0500\n",
      "Fin: 1200\n"
     ]
    },
    {
     "data": {
      "text/plain": [
       "['201802100700.xml',\n",
       " '201802090500.xml',\n",
       " '201802090600.xml',\n",
       " '201802100800.xml']"
      ]
     },
     "execution_count": 205,
     "metadata": {},
     "output_type": "execute_result"
    }
   ],
   "source": [
    "print(\"Ingrese la o las horas en formato hhmm\")\n",
    "horainicio = datetime.datetime.strptime(input(\"Inicio: \"), \"%H%M\")\n",
    "horafin = datetime.datetime.strptime(input(\"Fin: \"), \"%H%M\")\n",
    "horas = []\n",
    "lista = []\n",
    "for h in range(len(dias)):\n",
    "    for j in range((horafin.hour-horainicio.hour)+1):\n",
    "        horas.append(dias[h] + (horainicio + datetime.timedelta(hours=j)).strftime('%H%M'))\n",
    "    for k in range(len(horas)):\n",
    "        dir_path = os.path.dirname(os.path.realpath(horas[k]))\n",
    "        for root, dirs, files in os.walk(dir_path):\n",
    "            for file in files: \n",
    "                if file.startswith(horas[k]):\n",
    "                    lista.append((root+'/'+str(file))[-16:])\n",
    "lista = list(set(lista))\n",
    "lista"
   ]
  },
  {
   "cell_type": "markdown",
   "metadata": {},
   "source": [
    "# Busquedas\n",
    "Para poder utilizar el siguiente script de busquedas, se deben de organizar los archivos xml en formato yyyymmddhhmm -> 202106121800 lo cual son las 6:00 de la tarde del 12 de Junio del 2021. Estos archivos xml deben estar todos en un mismo folder, estos se pueden distinguir entre si gracias a sus diferencias de tiempos y fechas.\n",
    "\n",
    "Para comenzar, el script pide al usuario un intervalo de tiempo en formato yyyymmdd: inicio____ y fin____\n",
    "\n",
    "Posteriormente se da la opción de horas en especifico en formato hhmm: inicio____ y fin____\n",
    "\n",
    "Finalmente, se obtiene una lista de los documentos xml que cumplen con las condiciones deseadas para después ser extraidos y procesados."
   ]
  },
  {
   "cell_type": "code",
   "execution_count": 82,
   "metadata": {},
   "outputs": [
    {
     "name": "stdout",
     "output_type": "stream",
     "text": [
      "Ingrese el intervalo de interés utilizando el formato yyyymmdd\n",
      "Inicio: 20180101\n",
      "Fin: 20201231\n",
      "Actualmente solo soportamos busquedas menores a 184 días, por favor mofifique su busqueda.\n",
      "Inicio: 20180101\n",
      "Fin: 20180909\n",
      "Actualmente solo soportamos busquedas menores a 184 días, por favor mofifique su busqueda.\n",
      "Inicio: 20181101\n",
      "Fin: 20190131\n",
      "Desea alguna hora u horas en particular?\n",
      "S/N: N\n"
     ]
    },
    {
     "data": {
      "text/plain": [
       "['201812032000.xml',\n",
       " '201812030500.xml',\n",
       " '201812070500.xml',\n",
       " '201812072000.xml']"
      ]
     },
     "execution_count": 82,
     "metadata": {},
     "output_type": "execute_result"
    }
   ],
   "source": [
    "import datetime\n",
    "import os\n",
    "import numpy as np\n",
    "\n",
    "print(\"Ingrese el intervalo de interés utilizando el formato yyyymmdd\")\n",
    "inicio = datetime.datetime.strptime(input(\"Inicio: \"), \"%Y%m%d\")    \n",
    "fin = datetime.datetime.strptime(input(\"Fin: \"), \"%Y%m%d\")\n",
    "while (fin-inicio).days > 185:\n",
    "    print(\"Actualmente solo soportamos busquedas menores a 184 días, por favor mofifique su busqueda.\")\n",
    "    inicio = datetime.datetime.strptime(input(\"Inicio: \"), \"%Y%m%d\")\n",
    "    fin = datetime.datetime.strptime(input(\"Fin: \"), \"%Y%m%d\")\n",
    "dias = []\n",
    "lista = []\n",
    "for i in range(((fin-inicio).days)+1):\n",
    "    dias.append((inicio + datetime.timedelta(days=i)).strftime('%Y%m%d'))\n",
    "print(\"Desea alguna hora u horas en particular?\")\n",
    "respuesta = input(\"S/N: \")\n",
    "while respuesta != 'S' and respuesta != 'N':\n",
    "    print(\"Por favor eliga Si o No\")\n",
    "    respuesta = input(\"S/N: \")\n",
    "if respuesta == 'S':\n",
    "    print(\"Ingrese la hora ó intervalo de horas en formato hhmm\")\n",
    "    horainicio = datetime.datetime.strptime(input(\"Inicio: \"), \"%H%M\")\n",
    "    horafin = datetime.datetime.strptime(input(\"Fin: \"), \"%H%M\")\n",
    "    horas = []\n",
    "    for h in range(len(dias)):\n",
    "        for j in range((horafin.hour-horainicio.hour)+1):\n",
    "            horas.append(dias[h] + (horainicio + datetime.timedelta(hours=j)).strftime('%H%M'))\n",
    "            for k in range(len(horas)):\n",
    "                dir_path = os.path.dirname(os.path.realpath(horas[k]))\n",
    "                for root, dirs, files in os.walk(dir_path):\n",
    "                    for file in files: \n",
    "                        if file.startswith(horas[k]):\n",
    "                            lista.append((root+'/'+str(file))[-16:])\n",
    "    lista = list(set(lista))\n",
    "    lista = list(np.sort(lista))\n",
    "\n",
    "elif respuesta == 'N':\n",
    "    for l in range(len(dias)):\n",
    "        dir_path = os.path.dirname(os.path.realpath(dias[l]))\n",
    "        for root, dirs, files in os.walk(dir_path):\n",
    "            for file in files: \n",
    "                if file.startswith(dias[l]):\n",
    "                    lista.append((root+'/'+str(file))[-16:])\n",
    "lista\n"
   ]
  },
  {
   "cell_type": "code",
   "execution_count": 8,
   "metadata": {},
   "outputs": [
    {
     "name": "stdout",
     "output_type": "stream",
     "text": [
      "202006010500.xml\n",
      "202006050500.xml\n"
     ]
    }
   ],
   "source": [
    "#Concatenate list of xml files\n",
    "for k in range(len(lista)):\n",
    "    print(lista[k][-16:])"
   ]
  },
  {
   "cell_type": "code",
   "execution_count": null,
   "metadata": {},
   "outputs": [],
   "source": []
  }
 ],
 "metadata": {
  "kernelspec": {
   "display_name": "Python 3",
   "language": "python",
   "name": "python3"
  },
  "language_info": {
   "codemirror_mode": {
    "name": "ipython",
    "version": 3
   },
   "file_extension": ".py",
   "mimetype": "text/x-python",
   "name": "python",
   "nbconvert_exporter": "python",
   "pygments_lexer": "ipython3",
   "version": "3.7.3"
  }
 },
 "nbformat": 4,
 "nbformat_minor": 2
}
